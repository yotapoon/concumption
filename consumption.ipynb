{
 "cells": [
  {
   "cell_type": "code",
   "execution_count": 3,
   "metadata": {},
   "outputs": [
    {
     "name": "stderr",
     "output_type": "stream",
     "text": [
      "Using TensorFlow backend.\n"
     ]
    }
   ],
   "source": [
    "import sys \n",
    "import numpy as np # linear algebra\n",
    "from scipy.stats import randint\n",
    "import pandas as pd # data processing, CSV file I/O (e.g. pd.read_csv), data manipulation as in SQL\n",
    "import matplotlib.pyplot as plt # this is used for the plot the graph \n",
    "import seaborn as sns # used for plot interactive graph. \n",
    "from sklearn.model_selection import train_test_split # to split the data into two parts\n",
    "#from sklearn.cross_validation import KFold # use for cross validation\n",
    "#sklearn.model_selectionが新しいバージョンなのでここは使用しない\n",
    "from sklearn.preprocessing import StandardScaler # for normalization\n",
    "from sklearn.preprocessing import MinMaxScaler\n",
    "from sklearn.pipeline import Pipeline # pipeline making\n",
    "from sklearn.model_selection import cross_val_score\n",
    "from sklearn.feature_selection import SelectFromModel\n",
    "from sklearn import metrics # for the check the error and accuracy of the model\n",
    "from sklearn.metrics import mean_squared_error,r2_score\n",
    "\n",
    "## for Deep-learing:\n",
    "import keras\n",
    "from keras.layers import Dense\n",
    "from keras.models import Sequential\n",
    "from keras.utils import to_categorical\n",
    "from keras.optimizers import SGD \n",
    "from keras.callbacks import EarlyStopping\n",
    "from keras.utils import np_utils\n",
    "import itertools\n",
    "from keras.layers import LSTM\n",
    "from keras.layers.convolutional import Conv1D\n",
    "from keras.layers.convolutional import MaxPooling1D\n",
    "from keras.layers import Dropout"
   ]
  },
  {
   "cell_type": "code",
   "execution_count": 4,
   "metadata": {},
   "outputs": [],
   "source": [
    "df = pd.read_csv('./input/household_power_consumption.txt', sep=';', \n",
    "                 parse_dates={'dt' : ['Date', 'Time']}, infer_datetime_format=True, \n",
    "                 low_memory=False, na_values=['nan','?'], index_col='dt')\n",
    "#この段階において\"nan\"や\"?\"のような欠損値はnumpy nanに変換されている\n",
    "#また\"Date\"と\"Time\"は\"dt\"という一つの列に結合されている\n",
    "#infer_datetime_formatは列データがdatetimeのフォーマットになっているか確認することで時系列データとしてインデックスラベルを変更す"
   ]
  },
  {
   "cell_type": "code",
   "execution_count": 5,
   "metadata": {},
   "outputs": [
    {
     "name": "stdout",
     "output_type": "stream",
     "text": [
      "<class 'pandas.core.frame.DataFrame'>\n",
      "DatetimeIndex: 2075259 entries, 2006-12-16 17:24:00 to 2010-11-26 21:02:00\n",
      "Data columns (total 7 columns):\n",
      "Global_active_power      float64\n",
      "Global_reactive_power    float64\n",
      "Voltage                  float64\n",
      "Global_intensity         float64\n",
      "Sub_metering_1           float64\n",
      "Sub_metering_2           float64\n",
      "Sub_metering_3           float64\n",
      "dtypes: float64(7)\n",
      "memory usage: 126.7 MB\n"
     ]
    },
    {
     "data": {
      "text/html": [
       "<div>\n",
       "<style scoped>\n",
       "    .dataframe tbody tr th:only-of-type {\n",
       "        vertical-align: middle;\n",
       "    }\n",
       "\n",
       "    .dataframe tbody tr th {\n",
       "        vertical-align: top;\n",
       "    }\n",
       "\n",
       "    .dataframe thead th {\n",
       "        text-align: right;\n",
       "    }\n",
       "</style>\n",
       "<table border=\"1\" class=\"dataframe\">\n",
       "  <thead>\n",
       "    <tr style=\"text-align: right;\">\n",
       "      <th></th>\n",
       "      <th>Global_active_power</th>\n",
       "      <th>Global_reactive_power</th>\n",
       "      <th>Voltage</th>\n",
       "      <th>Global_intensity</th>\n",
       "      <th>Sub_metering_1</th>\n",
       "      <th>Sub_metering_2</th>\n",
       "      <th>Sub_metering_3</th>\n",
       "    </tr>\n",
       "  </thead>\n",
       "  <tbody>\n",
       "    <tr>\n",
       "      <th>count</th>\n",
       "      <td>2.049280e+06</td>\n",
       "      <td>2.049280e+06</td>\n",
       "      <td>2.049280e+06</td>\n",
       "      <td>2.049280e+06</td>\n",
       "      <td>2.049280e+06</td>\n",
       "      <td>2.049280e+06</td>\n",
       "      <td>2.049280e+06</td>\n",
       "    </tr>\n",
       "    <tr>\n",
       "      <th>mean</th>\n",
       "      <td>1.091615e+00</td>\n",
       "      <td>1.237145e-01</td>\n",
       "      <td>2.408399e+02</td>\n",
       "      <td>4.627759e+00</td>\n",
       "      <td>1.121923e+00</td>\n",
       "      <td>1.298520e+00</td>\n",
       "      <td>6.458447e+00</td>\n",
       "    </tr>\n",
       "    <tr>\n",
       "      <th>std</th>\n",
       "      <td>1.057294e+00</td>\n",
       "      <td>1.127220e-01</td>\n",
       "      <td>3.239987e+00</td>\n",
       "      <td>4.444396e+00</td>\n",
       "      <td>6.153031e+00</td>\n",
       "      <td>5.822026e+00</td>\n",
       "      <td>8.437154e+00</td>\n",
       "    </tr>\n",
       "    <tr>\n",
       "      <th>min</th>\n",
       "      <td>7.600000e-02</td>\n",
       "      <td>0.000000e+00</td>\n",
       "      <td>2.232000e+02</td>\n",
       "      <td>2.000000e-01</td>\n",
       "      <td>0.000000e+00</td>\n",
       "      <td>0.000000e+00</td>\n",
       "      <td>0.000000e+00</td>\n",
       "    </tr>\n",
       "    <tr>\n",
       "      <th>25%</th>\n",
       "      <td>3.080000e-01</td>\n",
       "      <td>4.800000e-02</td>\n",
       "      <td>2.389900e+02</td>\n",
       "      <td>1.400000e+00</td>\n",
       "      <td>0.000000e+00</td>\n",
       "      <td>0.000000e+00</td>\n",
       "      <td>0.000000e+00</td>\n",
       "    </tr>\n",
       "    <tr>\n",
       "      <th>50%</th>\n",
       "      <td>6.020000e-01</td>\n",
       "      <td>1.000000e-01</td>\n",
       "      <td>2.410100e+02</td>\n",
       "      <td>2.600000e+00</td>\n",
       "      <td>0.000000e+00</td>\n",
       "      <td>0.000000e+00</td>\n",
       "      <td>1.000000e+00</td>\n",
       "    </tr>\n",
       "    <tr>\n",
       "      <th>75%</th>\n",
       "      <td>1.528000e+00</td>\n",
       "      <td>1.940000e-01</td>\n",
       "      <td>2.428900e+02</td>\n",
       "      <td>6.400000e+00</td>\n",
       "      <td>0.000000e+00</td>\n",
       "      <td>1.000000e+00</td>\n",
       "      <td>1.700000e+01</td>\n",
       "    </tr>\n",
       "    <tr>\n",
       "      <th>max</th>\n",
       "      <td>1.112200e+01</td>\n",
       "      <td>1.390000e+00</td>\n",
       "      <td>2.541500e+02</td>\n",
       "      <td>4.840000e+01</td>\n",
       "      <td>8.800000e+01</td>\n",
       "      <td>8.000000e+01</td>\n",
       "      <td>3.100000e+01</td>\n",
       "    </tr>\n",
       "  </tbody>\n",
       "</table>\n",
       "</div>"
      ],
      "text/plain": [
       "       Global_active_power  Global_reactive_power       Voltage  \\\n",
       "count         2.049280e+06           2.049280e+06  2.049280e+06   \n",
       "mean          1.091615e+00           1.237145e-01  2.408399e+02   \n",
       "std           1.057294e+00           1.127220e-01  3.239987e+00   \n",
       "min           7.600000e-02           0.000000e+00  2.232000e+02   \n",
       "25%           3.080000e-01           4.800000e-02  2.389900e+02   \n",
       "50%           6.020000e-01           1.000000e-01  2.410100e+02   \n",
       "75%           1.528000e+00           1.940000e-01  2.428900e+02   \n",
       "max           1.112200e+01           1.390000e+00  2.541500e+02   \n",
       "\n",
       "       Global_intensity  Sub_metering_1  Sub_metering_2  Sub_metering_3  \n",
       "count      2.049280e+06    2.049280e+06    2.049280e+06    2.049280e+06  \n",
       "mean       4.627759e+00    1.121923e+00    1.298520e+00    6.458447e+00  \n",
       "std        4.444396e+00    6.153031e+00    5.822026e+00    8.437154e+00  \n",
       "min        2.000000e-01    0.000000e+00    0.000000e+00    0.000000e+00  \n",
       "25%        1.400000e+00    0.000000e+00    0.000000e+00    0.000000e+00  \n",
       "50%        2.600000e+00    0.000000e+00    0.000000e+00    1.000000e+00  \n",
       "75%        6.400000e+00    0.000000e+00    1.000000e+00    1.700000e+01  \n",
       "max        4.840000e+01    8.800000e+01    8.000000e+01    3.100000e+01  "
      ]
     },
     "execution_count": 5,
     "metadata": {},
     "output_type": "execute_result"
    }
   ],
   "source": [
    "df.head()#先頭の情報を示す\n",
    "df.info()#このデータについての情報をまとめて示す\n",
    "df.shape#データの形状を示す\n",
    "df.describe()#データについての統計情報を述べる"
   ]
  },
  {
   "cell_type": "markdown",
   "metadata": {},
   "source": [
    "欠損値\"nan\"を統計情報を利用して埋める"
   ]
  },
  {
   "cell_type": "code",
   "execution_count": 6,
   "metadata": {},
   "outputs": [
    {
     "name": "stdout",
     "output_type": "stream",
     "text": [
      "['Global_active_power', 'Global_reactive_power', 'Voltage', 'Global_intensity', 'Sub_metering_1', 'Sub_metering_2', 'Sub_metering_3']\n"
     ]
    }
   ],
   "source": [
    "dropping_list_all = []#欠損値を持っている列を記録する\n",
    "for col in df.columns:#すべての列に対して捜索する\n",
    "    if not df[col].notnull().all():#colという列は少なくとも1つは欠損値を持っているとき\n",
    "        dropping_list_all.append(col)#colを追加する\n",
    "print(dropping_list_all)#すべての列が欠損値を持っていることが分かった"
   ]
  },
  {
   "cell_type": "code",
   "execution_count": 7,
   "metadata": {},
   "outputs": [
    {
     "data": {
      "text/plain": [
       "Global_active_power      0\n",
       "Global_reactive_power    0\n",
       "Voltage                  0\n",
       "Global_intensity         0\n",
       "Sub_metering_1           0\n",
       "Sub_metering_2           0\n",
       "Sub_metering_3           0\n",
       "dtype: int64"
      ]
     },
     "execution_count": 7,
     "metadata": {},
     "output_type": "execute_result"
    }
   ],
   "source": [
    "for col in dropping_list_all:#欠損値を持っている列について\n",
    "    df[col] = df[col].fillna(df[col].mean())#欠損値を持っている位置はその列の平均で置き換える(適当すぎでは?)\n",
    "    #もっと本気でやろうと思えば線形補完が必要かもしれない\n",
    "df.isnull().sum()#欠損値の個数を列ごとに表示する、なぜ列ごとの情報が出てくるのかは不明、便利"
   ]
  },
  {
   "cell_type": "code",
   "execution_count": 8,
   "metadata": {},
   "outputs": [
    {
     "data": {
      "image/png": "[encoded data removed]",
      "text/plain": [
       "<Figure size 720x288 with 2 Axes>"
      ]
     },
     "metadata": {},
     "output_type": "display_data"
    }
   ],
   "source": [
    "fig=plt.figure(facecolor='w',figsize = (10,4))#ダークモード中で軸をなくさないためにfacecolorが必要、figsizeは並べたときのサイズをよくするため\n",
    "plt.subplot(1,2,1)#横に並べるために必要\n",
    "df.Global_active_power.resample('D').sum().plot(title='Global_active_power resampled over day for sum') #日付ごとにリサンプルし、日ごとの合計を取ってプロットする。よくわからない\n",
    "plt.tight_layout()#これの意味もよくわからない\n",
    "plt.subplot(1,2,2)\n",
    "df.Global_active_power.resample('D').mean().plot(title='Global_active_power resampled over day for mean', color='red') \n",
    "plt.subplots_adjust(wspace = 0.6)#resample(\"D\")だけではprintすることができない、sumやmeanで集約する必要がある\n",
    "plt.tight_layout()\n",
    "plt.show()"
   ]
  },
  {
   "cell_type": "code",
   "execution_count": 11,
   "metadata": {},
   "outputs": [],
   "source": [
    "def series_to_supervised(data, n_in=1, n_out=1, dropnan=True,t0 = 2):#n_inは(t-n_in,...,t-t0)までのデータを用いるということ,n_outは(t,...,t+n_out-1)までを予測するということ)\n",
    "\tn_vars = 1 if type(data) is list else data.shape[1]#n_varsは変数の数,dataがlistのときはshapeだとうまくいかないから場合分け\n",
    "\tdff = pd.DataFrame(data)#list形式のときのためデータフレームに直した?\n",
    "\tcols, names = list(), list()#とりあえずからのリストをつくる\n",
    "\t# input sequence (t-n, ... t-1)\n",
    "\tfor i in range(n_in, t0-1, -1):#inputについてのデータを作りcolsに格納,あとで結合。名前も保存\n",
    "\t\tcols.append(dff.shift(i))\n",
    "\t\tnames += [('var%d(t-%d)' % (j+1, i)) for j in range(n_vars)]#変数名もいい感じに付ける\n",
    "\t# forecast sequence (t, t+1, ... t+n)\n",
    "\tfor i in range(0, n_out):#outputについてのデータも作りcolsに格納\n",
    "\t\tcols.append(dff.shift(-i))\n",
    "\t\tif i == 0:\n",
    "\t\t\tnames += [('var%d(t)' % (j+1)) for j in range(n_vars)]#t+0はダサイので場合分け\n",
    "\t\telse:\n",
    "\t\t\tnames += [('var%d(t+%d)' % (j+1, i)) for j in range(n_vars)]\n",
    "\t# put it all together\n",
    "\tagg = pd.concat(cols, axis=1)#colsの変数たちを保存する\n",
    "\tagg.columns = names#名前についても結合する\n",
    "\t# drop rows with NaN values\n",
    "\tif dropnan:#nanが入っている列があれば削除する\n",
    "\t\tagg.dropna(inplace=True)\n",
    "\treturn agg"
   ]
  },
  {
   "cell_type": "code",
   "execution_count": 36,
   "metadata": {},
   "outputs": [
    {
     "name": "stdout",
     "output_type": "stream",
     "text": [
      "[[4.216 0.418]\n",
      " [5.36  0.436]\n",
      " [5.374 0.498]\n",
      " ...\n",
      " [0.938 0.   ]\n",
      " [0.934 0.   ]\n",
      " [0.932 0.   ]]\n",
      "[[0.934 0.   ]\n",
      " [0.932 0.   ]\n",
      " [4.216 0.418]\n",
      " ...\n",
      " [0.946 0.   ]\n",
      " [0.944 0.   ]\n",
      " [0.938 0.   ]]\n",
      "[[-3.282 -0.418]\n",
      " [-4.428 -0.436]\n",
      " [-1.158 -0.08 ]\n",
      " ...\n",
      " [ 0.008  0.   ]\n",
      " [ 0.01   0.   ]\n",
      " [ 0.006  0.   ]]\n"
     ]
    }
   ],
   "source": [
    "values = df.values[:,0:2]#Gloval_active_powerとその次のみを取り出した,最初だけではscaler.fit_transformが動かない\n",
    "prediction = np.roll(values,t0,axis = 0)\n",
    "print(values)\n",
    "print(prediction)\n",
    "values = prediction-values#valuesは素朴な予測値の誤差になる\n",
    "print(values)"
   ]
  },
  {
   "cell_type": "code",
   "execution_count": 37,
   "metadata": {},
   "outputs": [
    {
     "data": {
      "text/html": [
       "<div>\n",
       "<style scoped>\n",
       "    .dataframe tbody tr th:only-of-type {\n",
       "        vertical-align: middle;\n",
       "    }\n",
       "\n",
       "    .dataframe tbody tr th {\n",
       "        vertical-align: top;\n",
       "    }\n",
       "\n",
       "    .dataframe thead th {\n",
       "        text-align: right;\n",
       "    }\n",
       "</style>\n",
       "<table border=\"1\" class=\"dataframe\">\n",
       "  <thead>\n",
       "    <tr style=\"text-align: right;\">\n",
       "      <th></th>\n",
       "      <th>var1(t-10)</th>\n",
       "      <th>var1(t-9)</th>\n",
       "      <th>var1(t-8)</th>\n",
       "      <th>var1(t-7)</th>\n",
       "      <th>var1(t-6)</th>\n",
       "      <th>var1(t-5)</th>\n",
       "      <th>var1(t-4)</th>\n",
       "      <th>var1(t-3)</th>\n",
       "      <th>var1(t-2)</th>\n",
       "      <th>var1(t)</th>\n",
       "    </tr>\n",
       "  </thead>\n",
       "  <tbody>\n",
       "    <tr>\n",
       "      <th>10</th>\n",
       "      <td>0.229827</td>\n",
       "      <td>0.130527</td>\n",
       "      <td>0.413871</td>\n",
       "      <td>0.511784</td>\n",
       "      <td>0.662208</td>\n",
       "      <td>0.676071</td>\n",
       "      <td>0.511091</td>\n",
       "      <td>0.498614</td>\n",
       "      <td>0.517157</td>\n",
       "      <td>0.446624</td>\n",
       "    </tr>\n",
       "    <tr>\n",
       "      <th>11</th>\n",
       "      <td>0.130527</td>\n",
       "      <td>0.413871</td>\n",
       "      <td>0.511784</td>\n",
       "      <td>0.662208</td>\n",
       "      <td>0.676071</td>\n",
       "      <td>0.511091</td>\n",
       "      <td>0.498614</td>\n",
       "      <td>0.517157</td>\n",
       "      <td>0.517503</td>\n",
       "      <td>0.362574</td>\n",
       "    </tr>\n",
       "    <tr>\n",
       "      <th>12</th>\n",
       "      <td>0.413871</td>\n",
       "      <td>0.511784</td>\n",
       "      <td>0.662208</td>\n",
       "      <td>0.676071</td>\n",
       "      <td>0.511091</td>\n",
       "      <td>0.498614</td>\n",
       "      <td>0.517157</td>\n",
       "      <td>0.517503</td>\n",
       "      <td>0.446624</td>\n",
       "      <td>0.446971</td>\n",
       "    </tr>\n",
       "    <tr>\n",
       "      <th>13</th>\n",
       "      <td>0.511784</td>\n",
       "      <td>0.662208</td>\n",
       "      <td>0.676071</td>\n",
       "      <td>0.511091</td>\n",
       "      <td>0.498614</td>\n",
       "      <td>0.517157</td>\n",
       "      <td>0.517503</td>\n",
       "      <td>0.446624</td>\n",
       "      <td>0.362574</td>\n",
       "      <td>0.526688</td>\n",
       "    </tr>\n",
       "    <tr>\n",
       "      <th>14</th>\n",
       "      <td>0.662208</td>\n",
       "      <td>0.676071</td>\n",
       "      <td>0.511091</td>\n",
       "      <td>0.498614</td>\n",
       "      <td>0.517157</td>\n",
       "      <td>0.517503</td>\n",
       "      <td>0.446624</td>\n",
       "      <td>0.362574</td>\n",
       "      <td>0.446971</td>\n",
       "      <td>0.615590</td>\n",
       "    </tr>\n",
       "  </tbody>\n",
       "</table>\n",
       "</div>"
      ],
      "text/plain": [
       "    var1(t-10)  var1(t-9)  var1(t-8)  var1(t-7)  var1(t-6)  var1(t-5)  \\\n",
       "10    0.229827   0.130527   0.413871   0.511784   0.662208   0.676071   \n",
       "11    0.130527   0.413871   0.511784   0.662208   0.676071   0.511091   \n",
       "12    0.413871   0.511784   0.662208   0.676071   0.511091   0.498614   \n",
       "13    0.511784   0.662208   0.676071   0.511091   0.498614   0.517157   \n",
       "14    0.662208   0.676071   0.511091   0.498614   0.517157   0.517503   \n",
       "\n",
       "    var1(t-4)  var1(t-3)  var1(t-2)   var1(t)  \n",
       "10   0.511091   0.498614   0.517157  0.446624  \n",
       "11   0.498614   0.517157   0.517503  0.362574  \n",
       "12   0.517157   0.517503   0.446624  0.446971  \n",
       "13   0.517503   0.446624   0.362574  0.526688  \n",
       "14   0.446624   0.362574   0.446971  0.615590  "
      ]
     },
     "execution_count": 37,
     "metadata": {},
     "output_type": "execute_result"
    }
   ],
   "source": [
    "# normalize features\n",
    "scaler = MinMaxScaler(feature_range=(0, 1))#0から1の間で規格化するインスタンスを作成?\n",
    "scaled = scaler.fit_transform(values)#実際に規格化\n",
    "# frame as supervised learning\n",
    "M = 10\n",
    "reframed = series_to_supervised(scaled, M, 1,t0)#この場合t-1を利用してtを予測することになる\n",
    "#reframed.drop(reframed.columns[[1,3,5,7,9,11,13,15,17,19,21]], axis=1, inplace=True)#scaler.fit_trainsformのために追加したものを削除する\n",
    "reframed.drop(reframed.columns[[2*i+1 for i in range(M+2-t0)]], axis=1, inplace=True)#scaler.fit_trainsformのために追加したものを削除する\n",
    "reframed.head()"
   ]
  },
  {
   "cell_type": "code",
   "execution_count": 41,
   "metadata": {},
   "outputs": [
    {
     "name": "stdout",
     "output_type": "stream",
     "text": [
      "(518400, 1, 9) (518400,) (155520, 1, 9) (155520,)\n"
     ]
    }
   ],
   "source": [
    "values = reframed.values#またnp.arrayに変換し直す、何のため?\n",
    "n_train_time = 60*24*30*12#一か月分のデータを利用する\n",
    "n_test_time = n_train_time+int(n_train_time*0.3)#30%分のテストデータを取り出す\n",
    "train = values[:n_train_time]\n",
    "test = values[n_train_time:n_test_time]\n",
    "train_X,train_y = train[:,:-1],train[:,-1]#一番最後の列だけ(右端)目的とする値y、他は予測のために利用する値X\n",
    "test_X,test_y = test[:,:-1],test[:,-1]\n",
    "#LSTMsを利用するために形を整える必要がある\n",
    "# reshape input to be 3D [samples, timesteps, features]\n",
    "#train_X = train_X.reshape(len(train_X),len(train_X[0]),1)\n",
    "train_X = train_X.reshape(len(train_X),1,M+1-t0)\n",
    "test_X = test_X.reshape(len(test_X),1,M+1-t0)\n",
    "print(train_X.shape,train_y.shape,test_X.shape,test_y.shape)"
   ]
  },
  {
   "cell_type": "code",
   "execution_count": 42,
   "metadata": {},
   "outputs": [
    {
     "name": "stdout",
     "output_type": "stream",
     "text": [
      "Train on 518400 samples, validate on 155520 samples\n",
      "Epoch 1/20\n",
      " - 38s - loss: 0.0020 - val_loss: 0.0012\n",
      "Epoch 2/20\n",
      " - 27s - loss: 0.0013 - val_loss: 0.0012\n",
      "Epoch 3/20\n",
      " - 29s - loss: 0.0013 - val_loss: 0.0012\n",
      "Epoch 4/20\n",
      " - 54s - loss: 0.0013 - val_loss: 0.0012\n",
      "Epoch 5/20\n",
      " - 53s - loss: 0.0013 - val_loss: 0.0012\n",
      "Epoch 6/20\n",
      " - 53s - loss: 0.0013 - val_loss: 0.0012\n",
      "Epoch 7/20\n",
      " - 54s - loss: 0.0013 - val_loss: 0.0012\n",
      "Epoch 8/20\n",
      " - 75s - loss: 0.0013 - val_loss: 0.0012\n",
      "Epoch 9/20\n",
      " - 95s - loss: 0.0013 - val_loss: 0.0012\n",
      "Epoch 10/20\n",
      " - 94s - loss: 0.0013 - val_loss: 0.0012\n",
      "Epoch 11/20\n",
      " - 90s - loss: 0.0013 - val_loss: 0.0012\n",
      "Epoch 12/20\n",
      " - 92s - loss: 0.0013 - val_loss: 0.0012\n",
      "Epoch 13/20\n",
      " - 90s - loss: 0.0013 - val_loss: 0.0012\n",
      "Epoch 14/20\n",
      " - 95s - loss: 0.0013 - val_loss: 0.0012\n",
      "Epoch 15/20\n",
      " - 91s - loss: 0.0013 - val_loss: 0.0012\n",
      "Epoch 16/20\n",
      " - 91s - loss: 0.0013 - val_loss: 0.0012\n",
      "Epoch 17/20\n",
      " - 91s - loss: 0.0013 - val_loss: 0.0012\n",
      "Epoch 18/20\n",
      " - 90s - loss: 0.0013 - val_loss: 0.0012\n",
      "Epoch 19/20\n",
      " - 94s - loss: 0.0013 - val_loss: 0.0012\n",
      "Epoch 20/20\n",
      " - 94s - loss: 0.0013 - val_loss: 0.0012\n"
     ]
    },
    {
     "data": {
      "image/png": "[encoded data removed]",
      "text/plain": [
       "<Figure size 432x288 with 1 Axes>"
      ]
     },
     "metadata": {
      "needs_background": "light"
     },
     "output_type": "display_data"
    }
   ],
   "source": [
    "model = Sequential()#時系列データに対するやつ\n",
    "model.add(LSTM(100, input_shape=(train_X.shape[1], train_X.shape[2])))\n",
    "model.add(Dropout(0.2))\n",
    "#model.add(LSTM(100))\n",
    "#model.add(Dropout(0.3))\n",
    "model.add(Dense(1))\n",
    "model.compile(loss='mean_squared_error', optimizer='adam')\n",
    "\n",
    "#fit network\n",
    "history = model.fit(train_X, train_y, epochs=20, batch_size=70, validation_data=(test_X, test_y), verbose=2, shuffle=False)\n",
    "\n",
    "#summarize histry for loss\n",
    "plt.plot(history.history['loss'])\n",
    "plt.plot(history.history['val_loss'])\n",
    "plt.title('model loss')\n",
    "plt.ylabel('loss')\n",
    "plt.xlabel('epoch')\n",
    "plt.legend(['train', 'test'], loc='upper right')\n",
    "plt.show()\n"
   ]
  },
  {
   "cell_type": "code",
   "execution_count": 45,
   "metadata": {},
   "outputs": [
    {
     "data": {
      "image/png": "[encoded data removed]",
      "text/plain": [
       "<Figure size 432x288 with 1 Axes>"
      ]
     },
     "metadata": {
      "needs_background": "light"
     },
     "output_type": "display_data"
    }
   ],
   "source": [
    "aa = [x for x in range(100)]\n",
    "plt.plot(aa,test_y[400:500],label = \"test\",marker = \".\")\n",
    "plt.plot(aa,model.predict(test_X)[400:500],label = \"prediction\",marker = \".\")\n",
    "plt.legend()\n",
    "plt.show()"
   ]
  },
  {
   "cell_type": "code",
   "execution_count": 48,
   "metadata": {},
   "outputs": [
    {
     "data": {
      "text/plain": [
       "(155520, 9)"
      ]
     },
     "execution_count": 48,
     "metadata": {},
     "output_type": "execute_result"
    }
   ],
   "source": [
    "#make a prediction\n",
    "yhat = model.predict(test_X)\n",
    "test_X = test_X.reshape((test_X.shape[0],test_X.shape[2]))\n",
    "test_X.shape"
   ]
  },
  {
   "cell_type": "code",
   "execution_count": 58,
   "metadata": {},
   "outputs": [],
   "source": [
    "#予測値を逆戻しする\n",
    "inv_yhat = np.concatenate((yhat,yhat),axis = 1)#2つめのyhatは適当\n",
    "inv_yhat = scaler.inverse_transform(inv_yhat)\n",
    "inv_yhat = inv_yhat[:,0]\n",
    "inv_yhat = prediction[:,0][n_train_time:n_test_time]+inv_yhat"
   ]
  },
  {
   "cell_type": "code",
   "execution_count": 59,
   "metadata": {},
   "outputs": [
    {
     "name": "stdout",
     "output_type": "stream",
     "text": [
      "RMSE = 0.398\n"
     ]
    }
   ],
   "source": [
    "#実際の値を逆戻しする\n",
    "inv_y = df.values[:,0][n_train_time:n_test_time]\n",
    "rmse = np.sqrt(mean_squared_error(inv_y,inv_yhat))\n",
    "print(\"RMSE = %.3f\" % rmse)"
   ]
  },
  {
   "cell_type": "code",
   "execution_count": 61,
   "metadata": {},
   "outputs": [
    {
     "data": {
      "image/png": "[encoded data removed]",
      "text/plain": [
       "<Figure size 432x288 with 1 Axes>"
      ]
     },
     "metadata": {
      "needs_background": "light"
     },
     "output_type": "display_data"
    }
   ],
   "source": [
    "aa = [x for x in range(100)]\n",
    "plt.plot(aa,inv_y[300:400],label = \"test\",marker = \".\")\n",
    "plt.plot(aa,inv_yhat[300:400],label = \"prediction\",marker = \".\")\n",
    "plt.legend()\n",
    "plt.show()"
   ]
  },
  {
   "cell_type": "code",
   "execution_count": 62,
   "metadata": {},
   "outputs": [
    {
     "name": "stdout",
     "output_type": "stream",
     "text": [
      "RMSE = 0.410\n"
     ]
    }
   ],
   "source": [
    "inv_yhat = prediction[:,0][n_train_time:n_test_time]\n",
    "inv_y = df.values[:,0][n_train_time:n_test_time]\n",
    "rmse = np.sqrt(mean_squared_error(inv_y,inv_yhat))\n",
    "print(\"RMSE = %.3f\" % rmse)"
   ]
  },
  {
   "cell_type": "code",
   "execution_count": null,
   "metadata": {},
   "outputs": [],
   "source": []
  }
 ],
 "metadata": {
  "kernelspec": {
   "display_name": "Python 3",
   "language": "python",
   "name": "python3"
  },
  "language_info": {
   "codemirror_mode": {
    "name": "ipython",
    "version": 3
   },
   "file_extension": ".py",
   "mimetype": "text/x-python",
   "name": "python",
   "nbconvert_exporter": "python",
   "pygments_lexer": "ipython3",
   "version": "3.7.1"
  }
 },
 "nbformat": 4,
 "nbformat_minor": 2
}
