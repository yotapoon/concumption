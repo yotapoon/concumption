{
 "cells": [
  {
   "cell_type": "markdown",
   "metadata": {},
   "source": [
    "# Binomial Treeの実装"
   ]
  },
  {
   "cell_type": "code",
   "execution_count": 31,
   "metadata": {},
   "outputs": [
    {
     "name": "stdout",
     "output_type": "stream",
     "text": [
      "0.8566090370701033\n"
     ]
    }
   ],
   "source": [
    "import numpy as np\n",
    "T = 2.0\n",
    "H = 1000\n",
    "K = 52\n",
    "class Binomial_Tree:\n",
    "    def __init__(self,s0,r,sigma,H,T):\n",
    "        self.r = r\n",
    "        self.dt = T/(H-1.0)\n",
    "        self.u = np.exp(sigma*np.sqrt(self.dt))\n",
    "        self.d = 1.0/self.u\n",
    "        self.p = (np.exp(r*self.dt)-self.d)/(self.u-self.d)\n",
    "        self.stock = [[] for i in range(H)]\n",
    "        self.stock[0] = [s0]\n",
    "        for h in range(1,H):\n",
    "            self.stock[h].append(self.stock[h-1][0]*self.u)\n",
    "            if(h > 1):\n",
    "                self.stock[h].extend(self.stock[h-2])\n",
    "            self.stock[h].append(self.stock[h-1][-1]*self.d)\n",
    "    def back(self,K):\n",
    "        option = self.stock\n",
    "        option[H-1] = [max(x-K,0) for x in option[H-1]]\n",
    "        for h in range(H-2,-1,-1):\n",
    "            for w in range(len(option[h])):\n",
    "                option[h][w] = (option[h+1][w]*self.p+option[h+1][w+1]*(1.0-self.p))*np.exp(-self.r*self.dt)\n",
    "        self.option = option\n",
    "        return option[0][0]\n",
    "hoge = Binomial_Tree(50,0.05,0.3,H,T)\n",
    "hoge.back(K)\n",
    "print(hoge.back(K))\n",
    "        "
   ]
  },
  {
   "cell_type": "code",
   "execution_count": 47,
   "metadata": {},
   "outputs": [
    {
     "name": "stdout",
     "output_type": "stream",
     "text": [
      "9.094678727030628\n"
     ]
    }
   ],
   "source": [
    "import numpy as np\n",
    "T = 2.0\n",
    "H = 100\n",
    "K = 52\n",
    "class Trinomial_Tree:\n",
    "    def __init__(self,s0,r,q,sigma,H,T):\n",
    "        self.r = r\n",
    "        self.dt = T/(H-1.0)\n",
    "        self.u = np.exp(sigma*np.sqrt(3.0*self.dt))\n",
    "        self.d = 1.0/self.u\n",
    "        self.p_d = -np.sqrt(self.dt/(12.0*sigma*sigma))*(r-q-sigma*sigma/2.0)+1.0/6.0\n",
    "        self.p_m = 2.0/3.0\n",
    "        self.p_u = np.sqrt(self.dt/(12.0*sigma*sigma))*(r-q-sigma*sigma/2.0)+1.0/6.0\n",
    "        self.stock = [[] for i in range(H)]\n",
    "        self.stock[0] = [s0]\n",
    "        for h in range(1,H):\n",
    "            self.stock[h].append(self.stock[h-1][0]*self.u)\n",
    "            self.stock[h].extend(self.stock[h-1])\n",
    "            self.stock[h].append(self.stock[h-1][-1]*self.d)\n",
    "    def back(self,K):\n",
    "        option = self.stock\n",
    "        option[H-1] = [max(x-K,0) for x in option[H-1]]\n",
    "        for h in range(H-2,-1,-1):\n",
    "            for w in range(len(option[h])):\n",
    "                option[h][w] = (option[h+1][w]*self.p_u+option[h+1][w+1]*self.p_m+option[h+1][w+2]*self.p_d)*np.exp(-self.r*self.dt)\n",
    "        self.option = option\n",
    "        return option[0][0]\n",
    "hoge = Trinomial_Tree(50,0.05,0.01,0.3,H,T)\n",
    "print(hoge.back(K))"
   ]
  },
  {
   "cell_type": "code",
   "execution_count": 46,
   "metadata": {},
   "outputs": [
    {
     "name": "stdout",
     "output_type": "stream",
     "text": [
      "9.094678727030628\n"
     ]
    }
   ],
   "source": [
    "import numpy as np\n",
    "T = 2.0\n",
    "H = 100\n",
    "K = 52\n",
    "class Trinomial_Tree:\n",
    "    def __init__(self,s0,r,q,sigma,H,T):\n",
    "        self.r = r\n",
    "        self.dt = T/(H-1.0)\n",
    "        self.u = np.exp(sigma*np.sqrt(3.0*self.dt))\n",
    "        self.d = 1.0/self.u\n",
    "        self.p_d = -np.sqrt(self.dt/(12.0*sigma*sigma))*(r-q-sigma*sigma/2.0)+1.0/6.0\n",
    "        self.p_m = 2.0/3.0\n",
    "        self.p_u = np.sqrt(self.dt/(12.0*sigma*sigma))*(r-q-sigma*sigma/2.0)+1.0/6.0\n",
    "        self.stock = [[] for i in range(H)]\n",
    "        self.stock[0] = [s0]\n",
    "        for h in range(1,H):\n",
    "            self.stock[h].append(self.stock[h-1][0]*self.u)\n",
    "            self.stock[h].extend(self.stock[h-1])\n",
    "            self.stock[h].append(self.stock[h-1][-1]*self.d)\n",
    "    def back(self,K):\n",
    "        option = self.stock\n",
    "        option[H-1] = [max(x-K,0) for x in option[H-1]]\n",
    "        for h in range(H-2,-1,-1):\n",
    "            for w in range(len(option[h])):\n",
    "                option[h][w] = max((option[h+1][w]*self.p_u+option[h+1][w+1]*self.p_m+option[h+1][w+2]*self.p_d),option[h+1][w+1])*np.exp(-self.r*self.dt)\n",
    "        self.option = option\n",
    "        return option[0][0]\n",
    "hoge = Trinomial_Tree(50,0.05,0.01,0.3,H,T)\n",
    "print(hoge.back(K))"
   ]
  },
  {
   "cell_type": "code",
   "execution_count": null,
   "metadata": {},
   "outputs": [],
   "source": []
  }
 ],
 "metadata": {
  "kernelspec": {
   "display_name": "Python 3",
   "language": "python",
   "name": "python3"
  },
  "language_info": {
   "codemirror_mode": {
    "name": "ipython",
    "version": 3
   },
   "file_extension": ".py",
   "mimetype": "text/x-python",
   "name": "python",
   "nbconvert_exporter": "python",
   "pygments_lexer": "ipython3",
   "version": "3.7.1"
  }
 },
 "nbformat": 4,
 "nbformat_minor": 2
}
